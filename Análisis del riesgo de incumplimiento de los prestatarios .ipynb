{
 "cells": [
  {
   "cell_type": "markdown",
   "metadata": {},
   "source": [
    "# Contenido <a id='back'></a>\n",
    "* [Introducción](#intro) \n",
    "* [Etapa 1. Exploración de los datos](#exploracion_datos)\n",
    "     * [Conclusión intermedia](#conclusion_intermedia)\n",
    "     *[Posibles razones por las que hay valores ausentes en los datos](#posibles_razones)\n",
    "     *[Conclusiones](#conclusiones)\n",
    "* [Etapa 2. Transformación de datos](#transformacion_datos)\n",
    "* [Etapa 3. Trabajar con valores ausentes](#valores_ausentes)\n",
    "    * [Restaurar valores ausentes en total_income](#restaurar_total_income)\n",
    "    * [Restaurar valores ausentes en days_employed](#restaurar_days_employed)\n",
    "* [Etapa 4. Clasificación de datos](#clasificacion_datos)\n",
    "* [Etapa 5. Comprobación de hipótesis](#comprobacion_hipotesis)\n",
    "    * [5.1. Hipótesis 1: ¿Existe una correlación entre tener hijos y pagar a tiempo?](#hipotesis_1) \n",
    "    * [5.2. Hipótesis 2: ¿Existe una correlación entre la situación familiar y el pago a tiempo?](#hipotesis_2)\n",
    "    * [5.3. Hipótesis 3: ¿Existe una correlación entre el nivel de ingresos y el pago a tiempo?](#hipotesis_3)\n",
    "    * [5.4. Hipótesis 4: ¿Cómo afecta el propósito del crédito a la tasa de incumplimiento?](#hipotesis_4)\n",
    "* [Etapa 6. Conclusión general](#conclusion_general)\n"
   ]
  },
  {
   "cell_type": "markdown",
   "metadata": {},
   "source": [
    "# Análisis del riesgo de incumplimiento de los prestatarios <a id='intro'></a>\n",
    "\n",
    "Tu proyecto consiste en preparar un informe para la división de préstamos de un banco. Deberás averiguar si el estado civil y el número de hijos de un cliente tienen un impacto en el incumplimiento de pago de un préstamo. El banco ya tiene algunos datos sobre la solvencia crediticia de los clientes.\n",
    "\n",
    "Tu informe se tendrá en cuenta al crear una **puntuación de crédito** para un cliente potencial. La **puntuación de crédito** se utiliza para evaluar la capacidad de un prestatario potencial para pagar su préstamo.\n",
    "\n",
    "Este proyecto tiene como propósito evaluar los datos de los clientes para determinar si estas variables pueden tener un impacto importante en el incumplimiento de prestamos.\n",
    "Las hipótesis que se van a evaluar son las siguientes:\n",
    "¿Existe una correlación entre tener hijos y pagar a tiempo?\n",
    "¿Existe una correlación entre la situación familiar y el pago a tiempo?\n",
    "¿Existe una correlación entre el nivel de ingresos y el pago a tiempo?\n",
    "¿Cómo afecta el propósito del crédito a la tasa de incumplimiento?\n"
   ]
  },
  {
   "cell_type": "markdown",
   "metadata": {},
   "source": [
    "## Abre el archivo de datos y mira la información general. \n"
   ]
  },
  {
   "cell_type": "code",
   "execution_count": 1,
   "metadata": {},
   "outputs": [],
   "source": [
    "#Importación de librerias\n",
    "\n",
    "import pandas as pd # Cargar todas las librerías\n",
    "import numpy as np\n",
    "\n"
   ]
  },
  {
   "cell_type": "code",
   "execution_count": null,
   "metadata": {},
   "outputs": [],
   "source": [
    "#Importación de datos\n",
    "\n",
    "df = pd.read_csv('/datasets/credit_scoring_eng.csv') # Carga los datos"
   ]
  },
  {
   "cell_type": "markdown",
   "metadata": {},
   "source": [
    "## Ejercicio 1. Exploración de datos <a id='exploracion_datos'></a>\n",
    "\n",
    "**Descripción de los datos**\n",
    "- `children` - el número de hijos en la familia\n",
    "- `days_employed` - experiencia laboral en días\n",
    "- `dob_years` - la edad del cliente en años\n",
    "- `education` - la educación del cliente\n",
    "- `education_id` - identificador de educación\n",
    "- `family_status` - estado civil\n",
    "- `family_status_id` - identificador de estado civil\n",
    "- `gender` - género del cliente\n",
    "- `income_type` - tipo de empleo\n",
    "- `debt` - ¿había alguna deuda en el pago de un préstamo?\n",
    "- `total_income` - ingreso mensual\n",
    "- `purpose` - el propósito de obtener un préstamo\n"
   ]
  },
  {
   "cell_type": "code",
   "execution_count": null,
   "metadata": {},
   "outputs": [],
   "source": [
    "df.info() # Vamos a ver cuántas filas y columnas tiene nuestro conjunto de datos\n",
    "\n"
   ]
  },
  {
   "cell_type": "code",
   "execution_count": null,
   "metadata": {
    "scrolled": true
   },
   "outputs": [],
   "source": [
    "df.head(10) # vamos a mostrar las primeras filas N\n"
   ]
  },
  {
   "cell_type": "markdown",
   "metadata": {},
   "source": [
    "Al revisar la tabla se puede ver que la columna days_employed tiene valores negativos y cantidad de días que no tienen sentido ya que serian mas años de lo que se podrían trabajar en toda su vida y en la columna education hay valores duplicados implícitos, los cuales hay que solucionar en caso que se necesite agrupar estos datos. "
   ]
  },
  {
   "cell_type": "code",
   "execution_count": null,
   "metadata": {
    "scrolled": false
   },
   "outputs": [],
   "source": [
    "df.info() # Obtener información sobre los datos\n"
   ]
  },
  {
   "cell_type": "markdown",
   "metadata": {},
   "source": [
    "Tenemos valores ausentes solo en dos columnas,estas son las relacionadas con la información laboral: days_employed y total_income y aparentemente tienen 2174 valores nulos.  "
   ]
  },
  {
   "cell_type": "code",
   "execution_count": null,
   "metadata": {
    "scrolled": true
   },
   "outputs": [],
   "source": [
    "# Veamos la tabla filtrada con valores ausentes de la primera columna donde faltan datos\n",
    "df['days_employed'].value_counts(dropna= False)\n"
   ]
  },
  {
   "cell_type": "markdown",
   "metadata": {},
   "source": [
    "Aparentemente los valores ausentes en days_employed son simétricos y se demuestra que tiene 2174 valores nulos y tienen la forma esperada NaN por lo que podemos hacer calculos con estos datos. Se deben revisar mas detenidamente para verificar si tienen algún patrón en particular. "
   ]
  },
  {
   "cell_type": "code",
   "execution_count": null,
   "metadata": {},
   "outputs": [],
   "source": [
    "# Apliquemos múltiples condiciones para filtrar datos y veamos el número de filas en la tabla filtrada.\n",
    "ausentes_days_employed= df[df['days_employed'].isnull()]\n",
    "ausentes_days_employed.info()"
   ]
  },
  {
   "cell_type": "markdown",
   "metadata": {},
   "source": [
    "**Conclusión intermedia** <a id='conclusion_intermedia'></a>\n",
    "\n",
    "El número de filas de la tabla filtrada total_income_group coincide con el número de valores ausentes y podemos ver que days_employed y total_income están relacionadas, cuando un valor es nulo el valor del otro también lo es. \n",
    "\n",
    "Se va a calcular el porcentaje de los valores ausentes en comparación con el conjunto de datos para determinar que hacer con ellos."
   ]
  },
  {
   "cell_type": "code",
   "execution_count": null,
   "metadata": {},
   "outputs": [],
   "source": [
    "# Vamos a investigar a los clientes que no tienen datos sobre la característica identificada y la columna con los valores ausentes\n",
    "\n",
    "num_filas_df= df['debt'].count() # con una de las columnas que no tiene valores ausentes determino el numero de filas total  \n",
    "num_filas_ausentes= df['total_income'].isna().sum() # determino la cantidad de valores ausentes en'total_income' \n",
    "porcentaje_ausentes= num_filas_ausentes / num_filas_df  \n",
    "print((f'El porcentaje de los valores ausentes en comparación con el conjunto de datos completo es del: {porcentaje_ausentes:.0%}'))\n",
    "      "
   ]
  },
  {
   "cell_type": "code",
   "execution_count": null,
   "metadata": {},
   "outputs": [],
   "source": [
    "# Comprobación de la distribución\n",
    "df['total_income'].describe() "
   ]
  },
  {
   "cell_type": "markdown",
   "metadata": {},
   "source": [
    "Se puede observar que la diferencia entre el valor mínimo y máximo es muy grande y que existe una diferencia considerable entre la media y la mediana esto impulsado por la cantidad de valores atipicos que contiene la muestra como el valor máximo que está impulsando los promedios hacia arriba.\n",
    "\n",
    "**Posibles razones por las que hay valores ausentes en los datos** <a id='posibles_razones'></a>\n",
    "\n",
    "El único patrón que se puede observar de valores ausentes es que cuando falta days_employed también falta total_income esto podría ser debido a algún tipo de problema en el formulario, no es obligatorio completar esta información o no están a la vista por lo que el 10 % de las personas no la completan. Se recomienda revisar estos items en el formulario para determinar por que se generan esta cantidad de valores ausentes.\n"
   ]
  },
  {
   "cell_type": "code",
   "execution_count": null,
   "metadata": {},
   "outputs": [],
   "source": [
    "# Comprobando la distribución en el conjunto de datos entero\n",
    "df.describe() \n"
   ]
  },
  {
   "cell_type": "markdown",
   "metadata": {},
   "source": [
    "**Conclusión intermedia**\n",
    "\n",
    "La distribución del conjunto de datos original es muy similar a la distribución de la tabla filtrada con gran diferencia entre los valores máximos y mínimos y entre la media y la mediana. También se pueden observar gran cantidad de errores en los datos que afectan los resultado de la distribución, entre los errores tenemos gran cantidad de valores negativos en la cantidad de hijos y en días trabajados así como valores extremos que a simple vista se pueden ver como errores pero en vista de que es un estudio de información crediticia es posible que estos valores tan altos se deban al conjunto de un grupo familiar. Se recomienda hacer una revisión del formulario y configurar para que no permita el ingreso de valores negativos ya que estos afectan considerablente el calculo de la distribución de los datos.\n"
   ]
  },
  {
   "cell_type": "code",
   "execution_count": null,
   "metadata": {},
   "outputs": [],
   "source": [
    "# Comprueba otras razones y patrones que podrían llevar a valores ausentes\n",
    "df_not_na= df.dropna() \n",
    "#distribución con valores ausentes de la variable 'income_type'\n",
    "print(df['income_type'].value_counts(normalize=True))\n",
    "print()\n",
    "#distribución sin valores ausentes de la variable 'income_type'\n",
    "print(df_not_na['income_type'].value_counts(normalize=True))\n",
    "#distribución con valores ausentes de la variable 'debt'\n",
    "print()\n",
    "print(df['debt'].value_counts(normalize=True))\n",
    "print()\n",
    "#distribución sin valores ausentes de la variable 'debt'\n",
    "print(df_not_na['debt'].value_counts(normalize=True))\n",
    "print()\n",
    "#distribución con valores ausentes de la variable 'gender'\n",
    "print(df['gender'].value_counts(normalize=True))\n",
    "print()\n",
    "#distribución sin valores ausentes de la variable 'gender'\n",
    "print(df_not_na['gender'].value_counts(normalize=True))\n",
    "print()\n",
    "#distribución con valores ausentes de la variable 'family_status'\n",
    "print(df['family_status'].value_counts(normalize=True))\n",
    "print()\n",
    "#distribución sin valores ausentes de la variable 'family_status'\n",
    "print(df_not_na['family_status'].value_counts(normalize=True))"
   ]
  },
  {
   "cell_type": "markdown",
   "metadata": {},
   "source": [
    "**Conclusión intermedia** \n",
    "\n",
    "Considero que los valores ausentes pueden estar relacionados con la columna gender ya que se notan diferencias en la distribución con valores ausentes y sin valores ausentes quizas puede estar relacionado con que las personas del género femenino tienden a tener salarios mas bajos y por ello evitan completar esta sección. es muy importante que en el formulario de ingreso de información estos items se debería como obligatorios ya que son considerados importantes para el estudio crediticio del cliente, además el formulario permite el ingreso de valores negativos, otro aspecto a tomar en  cuenta es que se debe especificar si el prestamo es solicitado por una sola persona o por un grupo familiar de esa manera se podría hacer un análisis mas efectivo. "
   ]
  },
  {
   "cell_type": "code",
   "execution_count": null,
   "metadata": {
    "scrolled": true
   },
   "outputs": [],
   "source": [
    "# Comprobación de otros patrones: explica cuáles"
   ]
  },
  {
   "cell_type": "markdown",
   "metadata": {},
   "source": [
    "**Conclusiones** <a id='conclusiones'></a>\n",
    "Se puede observar en el conjunto de datos que cuando falta la información de days_employed también falta total_income por lo que se debería hacer enfasis en que estos campos seas obligatorios, los valores ausentes presentan un patrón y pueden estar relacionados con la columna gender. Se va a proceder a clasificar y agrupar la información para determinar el valor adecuado para completar estos valores ausentes."
   ]
  },
  {
   "cell_type": "markdown",
   "metadata": {},
   "source": [
    "## Transformación de datos <a id='transformacion_datos'></a>"
   ]
  },
  {
   "cell_type": "code",
   "execution_count": null,
   "metadata": {},
   "outputs": [],
   "source": [
    "# Veamos todos los valores en la columna de educación para verificar si será necesario corregir la ortografía y qué habrá que corregir exactamente\n",
    "print(df['education'].value_counts())"
   ]
  },
  {
   "cell_type": "code",
   "execution_count": null,
   "metadata": {
    "scrolled": true
   },
   "outputs": [],
   "source": [
    "# Arregla los registros si es necesario\n",
    "df['education_lowecase'] = df['education'].str.lower()"
   ]
  },
  {
   "cell_type": "code",
   "execution_count": null,
   "metadata": {},
   "outputs": [],
   "source": [
    "# Comprobar todos los valores en la columna para asegurarnos de que los hayamos corregido\n",
    "print(df['education_lowecase'].value_counts())\n"
   ]
  },
  {
   "cell_type": "code",
   "execution_count": null,
   "metadata": {},
   "outputs": [],
   "source": [
    "# Veamos la distribución de los valores en la columna `children`\n",
    "count_children= df.groupby('children').size()\n",
    "print(count_children) \n",
    "porcentaje_prob_children=  ((47+76) / num_filas_df) \n",
    "print((f'El porcentaje de los valores problemáticos en comparación con el conjunto de datos completo es del: {porcentaje_prob_children:.1%}'))\n",
    "df['children'].describe() "
   ]
  },
  {
   "cell_type": "markdown",
   "metadata": {},
   "source": [
    "Se observan valores extraños en los datos tales como que 47 pesonas tienen -1 hijos y 76 personas tienen 20 hijos debido a que es un número de personas considerable con esta cantidad tan grande de hijos intuyo que esto pueden ser errores de tipeo, aún así el porcentaje de valores problematicos corresponde al 1% lo cual es bajo por lo que considero que lo mejor es reemplazarlos por la mediana y ser muy cuidadosos con estos datos ya que es una variable de interés. "
   ]
  },
  {
   "cell_type": "code",
   "execution_count": null,
   "metadata": {},
   "outputs": [],
   "source": [
    "mediana_children = df['children'].median()\n",
    "try:\n",
    "    \n",
    "    df['children'] = df['children'].replace({20: mediana_children, -1: mediana_children})  \n",
    "\n",
    "except:\n",
    "    print('No se encontró ningún número problemático')\n"
   ]
  },
  {
   "cell_type": "code",
   "execution_count": null,
   "metadata": {},
   "outputs": [],
   "source": [
    "# Comprobar la columna `children` de nuevo para asegurarnos de que todo está arreglado\n",
    "df['children'].describe() \n"
   ]
  },
  {
   "cell_type": "code",
   "execution_count": null,
   "metadata": {},
   "outputs": [],
   "source": [
    "# Encuentra datos problemáticos en `days_employed`, si existen, y calcula el porcentaje\n",
    "count_days_employed= df.groupby('days_employed').size()\n",
    "print(count_days_employed.tail(10)) \n",
    "df['days_employed'].describe() "
   ]
  },
  {
   "cell_type": "markdown",
   "metadata": {},
   "source": [
    "A simple vista se ve que la cantidad de valores problemáticos es alta ya que el valor mínimo, máximo, 25%, 50%, 75% son valores negativos esto podría ser por errores de tipeo, estos se van a reemplazar por el valor absoluto del número y también tenemos un valor máximo muy alto que esto podría ser generado como ya habia mencionado por la suma de un grupo familiar o bien porque fueron ingresados en otra escala, por ahora todos los valores mayores a 10000 que equivalen a unos 27 años Proximadamente se van a reemplazar por el valor NAN así no interfieren en el estudio. "
   ]
  },
  {
   "cell_type": "code",
   "execution_count": null,
   "metadata": {
    "scrolled": true
   },
   "outputs": [],
   "source": [
    "# Aborda los valores problemáticos, si existen.\n",
    "df['days_employed'] = abs((df['days_employed']))\n",
    "df.loc[df.days_employed>10000,'days_employed']=''\n",
    "df['days_employed']=pd.to_numeric(df['days_employed'], errors='ignore')\n"
   ]
  },
  {
   "cell_type": "code",
   "execution_count": null,
   "metadata": {
    "scrolled": true
   },
   "outputs": [],
   "source": [
    "# Comprueba el resultado - asegúrate de que esté arreglado\n",
    "df.info()\n",
    "df['days_employed'].describe() \n"
   ]
  },
  {
   "cell_type": "code",
   "execution_count": null,
   "metadata": {
    "scrolled": true
   },
   "outputs": [],
   "source": [
    "# Revisa `dob_years` en busca de valores sospechosos y cuenta el porcentaje\n",
    "count_dob_years= df.groupby('dob_years').size()\n",
    "print(count_dob_years.head()) \n",
    "df['dob_years'].describe() \n",
    "porcentaje_dob_years= (101 / num_filas_df) \n",
    "print((f'El porcentaje de los valores problemáticos en comparación con el conjunto de datos completo es del: {porcentaje_dob_years:.1%}'))\n",
    "      \n"
   ]
  },
  {
   "cell_type": "markdown",
   "metadata": {},
   "source": [
    "Según lo observado el conjunto de datos tiene algunos valores problemáticos ya que ninguna persona que quiera solicitar un crédito puede tener 0 años, seguramente otro error de tipeo y no se completó esta información, estos errores no son significativos ya que solo representan el 0.5 % del conjunto total de los datos, estos se van a sustituir por el valor de la mediana. Se recomienda programar el campo de edad para que no permita continuar si el campo está vacio. "
   ]
  },
  {
   "cell_type": "code",
   "execution_count": null,
   "metadata": {},
   "outputs": [],
   "source": [
    "# Resuelve los problemas en la columna `dob_years`, si existen\n",
    "df.loc[df.dob_years==0,'dob_years']=''\n",
    "df['dob_years']=pd.to_numeric(df['dob_years'], errors='ignore')\n",
    "median_dob_years= df['dob_years'].median()  \n",
    "try:\n",
    "    \n",
    "    df['dob_years'] = df['dob_years'].fillna(median_dob_years)  \n",
    "\n",
    "except:\n",
    "    print('No se encontró ningún número problemático')\n"
   ]
  },
  {
   "cell_type": "code",
   "execution_count": null,
   "metadata": {},
   "outputs": [],
   "source": [
    "# Comprueba el resultado - asegúrate de que esté arreglado\n",
    "df['dob_years'].describe() \n"
   ]
  },
  {
   "cell_type": "code",
   "execution_count": null,
   "metadata": {},
   "outputs": [],
   "source": [
    "# Veamos los valores de la columna\n",
    "df['family_status'].value_counts() "
   ]
  },
  {
   "cell_type": "code",
   "execution_count": null,
   "metadata": {},
   "outputs": [],
   "source": [
    "# Aborda los valores problemáticos en `family_status`, si existen, no se encontraron valores problemáticos.\n",
    "\n"
   ]
  },
  {
   "cell_type": "code",
   "execution_count": null,
   "metadata": {},
   "outputs": [],
   "source": [
    "# Comprueba el resultado - asegúrate de que esté arreglado\n"
   ]
  },
  {
   "cell_type": "code",
   "execution_count": null,
   "metadata": {},
   "outputs": [],
   "source": [
    "# Veamos los valores en la columna\n",
    "df['gender'].value_counts() "
   ]
  },
  {
   "cell_type": "code",
   "execution_count": null,
   "metadata": {},
   "outputs": [],
   "source": []
  },
  {
   "cell_type": "code",
   "execution_count": null,
   "metadata": {},
   "outputs": [],
   "source": [
    "# Comprueba el resultado - asegúrate de que esté arreglado"
   ]
  },
  {
   "cell_type": "code",
   "execution_count": null,
   "metadata": {},
   "outputs": [],
   "source": [
    "# Veamos los valores en la columna\n",
    "df['income_type'].value_counts() "
   ]
  },
  {
   "cell_type": "code",
   "execution_count": null,
   "metadata": {},
   "outputs": [],
   "source": [
    "# Aborda los valores problemáticos, si existen. No se encontraron valores problemáticos. "
   ]
  },
  {
   "cell_type": "code",
   "execution_count": null,
   "metadata": {},
   "outputs": [],
   "source": [
    "# Comprueba el resultado - asegúrate de que esté arreglado\n",
    "\n"
   ]
  },
  {
   "cell_type": "markdown",
   "metadata": {},
   "source": [
    "No hay suficiente información para determinar si hay valores duplicados ya que no hay un identificador único para cada cliente como por ejemplo nombre o número de documento."
   ]
  },
  {
   "cell_type": "code",
   "execution_count": null,
   "metadata": {},
   "outputs": [],
   "source": [
    "# Comprobar los duplicados\n",
    "print(df.duplicated().sum())\n",
    "duplicated_df= df[df.duplicated()]"
   ]
  },
  {
   "cell_type": "code",
   "execution_count": null,
   "metadata": {},
   "outputs": [],
   "source": [
    "df= df.drop_duplicates().reset_index(drop=True) # Aborda los duplicados"
   ]
  },
  {
   "cell_type": "code",
   "execution_count": null,
   "metadata": {},
   "outputs": [],
   "source": [
    "# Última comprobación para ver si tenemos duplicados\n",
    "print(df.duplicated().sum())"
   ]
  },
  {
   "cell_type": "code",
   "execution_count": null,
   "metadata": {},
   "outputs": [],
   "source": [
    "# Comprueba el tamaño del conjunto de datos que tienes ahora, después de haber ejecutado estas primeras manipulaciones\n",
    "df.info()"
   ]
  },
  {
   "cell_type": "markdown",
   "metadata": {},
   "source": [
    "En este momento el conjunto de datos es mas pequeño, ya que se eliminaron los duplicados explícitos y los implícitos en la columna eduaction, se solucionaron los valores erróneos en las columnas children, days_employed y dob_years\n",
    "por lo que tenemos una menor cantidad de valores problemáticos. "
   ]
  },
  {
   "cell_type": "markdown",
   "metadata": {},
   "source": [
    "# Trabajar con valores ausentes <a id='valores_ausentes'></a>"
   ]
  },
  {
   "cell_type": "markdown",
   "metadata": {},
   "source": [
    "Se procede a realizar los diccionarios con los valores que tienen un Id identificador, para de esta manera facilitar la manipulación de estos datos en caso de necesitarse mas adelante."
   ]
  },
  {
   "cell_type": "code",
   "execution_count": null,
   "metadata": {},
   "outputs": [],
   "source": [
    "# Encuentra los diccionarios\n",
    "diccionario_education= df.set_index('education_id')['education'].to_dict()\n",
    "diccionario_family_status= df.set_index('family_status_id')['family_status'].to_dict() \n",
    "print(diccionario_education)\n",
    "print()\n",
    "print(diccionario_family_status)"
   ]
  },
  {
   "cell_type": "markdown",
   "metadata": {},
   "source": [
    "### Restaurar valores ausentes en `total_income` <a id='restaurar_total_income'></a>"
   ]
  },
  {
   "cell_type": "markdown",
   "metadata": {},
   "source": [
    "Las columnas que contienen valores ausentes son days_employed y total_income en ambos casos se van a agrupar los datos para determinar el valor mas adecuado para reemplazarlos, ya sea con la media o la mediana segun la clasificación más adecuada para cada caso.\n"
   ]
  },
  {
   "cell_type": "code",
   "execution_count": null,
   "metadata": {},
   "outputs": [],
   "source": [
    "# Vamos a escribir una función que calcule la categoría de edad\n",
    "df['dob_years'].value_counts()\n",
    "\n",
    "def dob_years_group(dob_years):\n",
    "    if dob_years <= 18:\n",
    "        return 'NA'\n",
    "    elif dob_years <=30:\n",
    "        return 'Joven'\n",
    "    elif dob_years <=65:\n",
    "        return 'Adulto'\n",
    "    else:\n",
    "        return 'Retirado'\n",
    "    "
   ]
  },
  {
   "cell_type": "code",
   "execution_count": null,
   "metadata": {},
   "outputs": [],
   "source": [
    "# Prueba si la función funciona bien\n",
    "print(dob_years_group(10))\n",
    "print(dob_years_group(30))\n",
    "print(dob_years_group(65))\n",
    "print(dob_years_group(80))"
   ]
  },
  {
   "cell_type": "code",
   "execution_count": null,
   "metadata": {},
   "outputs": [],
   "source": [
    "# Crear una nueva columna basada en la función\n",
    "df['dob_years_group']= df['dob_years'].apply(dob_years_group)\n",
    "\n"
   ]
  },
  {
   "cell_type": "code",
   "execution_count": null,
   "metadata": {},
   "outputs": [],
   "source": [
    "# Comprobar cómo los valores en la nueva columna\n",
    "df.head(10)\n"
   ]
  },
  {
   "cell_type": "markdown",
   "metadata": {},
   "source": [
    "Hay varios factores que pueden influir directamente en los ingresos persibidos; estos pueden ser la edad, el nivel educativo y también es muy  probable que los hombres tengan ingresos mayores que las mujeres por lo que es importante también evaluar esta distribución."
   ]
  },
  {
   "cell_type": "code",
   "execution_count": null,
   "metadata": {},
   "outputs": [],
   "source": [
    "# Crea una tabla sin valores ausentes y muestra algunas de sus filas para asegurarte de que se ve bien\n",
    "df_sin_ausentes= df.dropna()\n",
    "df_sin_ausentes.info()\n",
    "df_sin_ausentes.head(10)"
   ]
  },
  {
   "cell_type": "code",
   "execution_count": null,
   "metadata": {},
   "outputs": [],
   "source": [
    "# Examina los valores medios de los ingresos en función de los factores que identificaste\n",
    "print(df_sin_ausentes.groupby('education_lowecase')['total_income'].mean())\n",
    "print()\n",
    "print(df_sin_ausentes.groupby('dob_years_group')['total_income'].mean())\n",
    "print()\n",
    "print(df_sin_ausentes.groupby('gender')['total_income'].mean())"
   ]
  },
  {
   "cell_type": "code",
   "execution_count": null,
   "metadata": {
    "scrolled": true
   },
   "outputs": [],
   "source": [
    "# Examina los valores medianos de los ingresos en función de los factores que identificaste\n",
    "print(df_sin_ausentes.groupby('education_lowecase')['total_income'].median())\n",
    "print()\n",
    "print(df_sin_ausentes.groupby('dob_years_group')['total_income'].median())\n",
    "print()\n",
    "print(df_sin_ausentes.groupby('gender')['total_income'].median())\n",
    "\n",
    "\n"
   ]
  },
  {
   "cell_type": "markdown",
   "metadata": {},
   "source": [
    "Se hizo la compraración entre varios factores que pueden definir los ingresos mensuales de las personas,tales como, el nivel de educación, la edad y el genero. \n"
   ]
  },
  {
   "cell_type": "markdown",
   "metadata": {},
   "source": [
    "Se decide utilizar la mediana en base a los datos de dob_years_group ya que el valor de la mediana se ve menos influenciada por los valores atípicos significativos."
   ]
  },
  {
   "cell_type": "code",
   "execution_count": null,
   "metadata": {},
   "outputs": [],
   "source": [
    "#  Escribe una función que usaremos para completar los valores ausentes\n",
    "\n",
    "df['total_income']= df.groupby('dob_years_group')['total_income'].transform(lambda x: x.fillna(x.median()))\n"
   ]
  },
  {
   "cell_type": "code",
   "execution_count": null,
   "metadata": {},
   "outputs": [],
   "source": [
    "# Comprueba si funciona\n",
    "print(df['total_income'].isna().sum()) \n",
    "df.info()"
   ]
  },
  {
   "cell_type": "code",
   "execution_count": null,
   "metadata": {},
   "outputs": [],
   "source": [
    "# Comprobar el número de entradas en las columnas\n",
    "\n",
    "df.info()"
   ]
  },
  {
   "cell_type": "markdown",
   "metadata": {},
   "source": [
    "###  Restaurar valores en `days_employed` <a id='restaurar_days_employed'></a>"
   ]
  },
  {
   "cell_type": "code",
   "execution_count": null,
   "metadata": {
    "pycharm": {
     "name": "#%%\n"
    }
   },
   "outputs": [],
   "source": [
    "# Distribución de las medianas de `days_employed` en función de los parámetros identificados\n",
    "df.groupby('dob_years_group')['days_employed'].median()"
   ]
  },
  {
   "cell_type": "code",
   "execution_count": null,
   "metadata": {},
   "outputs": [],
   "source": [
    "# Distribución de las medias de `days_employed` en función de los parámetros identificados\n",
    "df.groupby('dob_years_group')['days_employed'].mean()\n"
   ]
  },
  {
   "cell_type": "markdown",
   "metadata": {},
   "source": [
    "Se va a utilizar la mediana ya que se tiene una gran cantidad de valores atipicos significativos la diferencia es grande entre la media y la mediana. "
   ]
  },
  {
   "cell_type": "code",
   "execution_count": null,
   "metadata": {},
   "outputs": [],
   "source": [
    "# Escribamos una función que calcule medias o medianas (dependiendo de tu decisión) según el parámetro identificado\n",
    "df['days_employed']= df.groupby('dob_years_group')['days_employed'].transform(lambda x: x.fillna(x.median()))"
   ]
  },
  {
   "cell_type": "code",
   "execution_count": null,
   "metadata": {},
   "outputs": [],
   "source": [
    "# Comprueba que la función funciona\n",
    "print(df['days_employed'].isna().sum()) "
   ]
  },
  {
   "cell_type": "code",
   "execution_count": null,
   "metadata": {},
   "outputs": [],
   "source": [
    "# Comprueba las entradas en todas las columnas: asegúrate de que hayamos corregido todos los valores ausentes\n",
    "df.info()"
   ]
  },
  {
   "cell_type": "markdown",
   "metadata": {},
   "source": [
    "## Clasificación de datos <a id='clasificacion_datos'></a>\n"
   ]
  },
  {
   "cell_type": "code",
   "execution_count": null,
   "metadata": {
    "scrolled": true
   },
   "outputs": [],
   "source": [
    "# Muestra los valores de los datos seleccionados para la clasificación\n",
    "\n",
    "print(df['children'].value_counts())\n",
    "print()\n",
    "print(df['family_status'].value_counts())\n"
   ]
  },
  {
   "cell_type": "code",
   "execution_count": null,
   "metadata": {},
   "outputs": [],
   "source": [
    "# Comprobar los valores únicos\n",
    "print(df['children'].unique())\n",
    "\n",
    "print()\n",
    "\n",
    "print(df['family_status'].unique())"
   ]
  },
  {
   "cell_type": "markdown",
   "metadata": {},
   "source": [
    "Los grupos principales que se pueden identificar de la variable 'children' son: Con hijos y Sin hijos y de la variable 'family_status' En pareja y Sin pareja"
   ]
  },
  {
   "cell_type": "code",
   "execution_count": null,
   "metadata": {},
   "outputs": [],
   "source": [
    "# Escribamos una función para clasificar los datos en función de temas comunes\n",
    "\n",
    "def children_group(children):\n",
    "    if children >= 1:\n",
    "        return 'Con hijos'\n",
    "    else:\n",
    "        return 'Sin hijos'\n"
   ]
  },
  {
   "cell_type": "code",
   "execution_count": null,
   "metadata": {},
   "outputs": [],
   "source": [
    "# Crea una columna con las categorías y cuenta los valores en ellas\n",
    "\n",
    "df['children_group']= df['children'].apply(children_group)\n",
    "df_pivot_children_group = df.pivot_table(index='children_group',values='debt',aggfunc=['count','sum','mean'])\n",
    "# Calcular la tasa de incumplimiento en función del número de hijos\n",
    "df_pivot_children_group\n",
    "\n"
   ]
  },
  {
   "cell_type": "code",
   "execution_count": null,
   "metadata": {},
   "outputs": [],
   "source": [
    "# Revisar todos los datos numéricos en la columna seleccionada para la clasificación\n",
    "df['total_income'].head(10)"
   ]
  },
  {
   "cell_type": "code",
   "execution_count": null,
   "metadata": {},
   "outputs": [],
   "source": [
    "# Obtener estadísticas resumidas para la columna\n",
    "df['total_income'].describe()\n"
   ]
  },
  {
   "cell_type": "markdown",
   "metadata": {},
   "source": [
    "Los rangos que se utilizarán para la clasificación son los siguientes Bajo <= 17224.844000 que es el valor del percentil mas pequeño y Medio <= 31320.304000 que son todos los valores que están por debajo del percentil 75 que es el mas alto pero por encima del percentil 25 y Alto >31320.304000 todos los valores que se encuentran dentro del percentil 75 que corresponde a los valores con los ingresos mas altos. "
   ]
  },
  {
   "cell_type": "code",
   "execution_count": null,
   "metadata": {},
   "outputs": [],
   "source": [
    "# Crear una función para clasificar en diferentes grupos numéricos basándose en rangos\n",
    "\n",
    "def total_income_group(total_income):\n",
    "    if total_income <= 17224.844000:\n",
    "        return 'Ingreso Bajo'\n",
    "    elif total_income <= 31320.304000:\n",
    "        return 'Ingreso Medio'\n",
    "    elif total_income > 31320.304000:\n",
    "        return 'Ingreso Alto'\n",
    "    "
   ]
  },
  {
   "cell_type": "code",
   "execution_count": null,
   "metadata": {},
   "outputs": [],
   "source": [
    "# Crear una columna con categorías\n",
    "df['total_income_group']= df['total_income'].apply(total_income_group) "
   ]
  },
  {
   "cell_type": "code",
   "execution_count": null,
   "metadata": {
    "scrolled": true
   },
   "outputs": [],
   "source": [
    "# Contar los valores de cada categoría para ver la distribución\n",
    "print(df['total_income_group'].value_counts())"
   ]
  },
  {
   "cell_type": "markdown",
   "metadata": {},
   "source": [
    "## Comprobación de las hipótesis <a id='comprobacion_hipotesis'></a>\n"
   ]
  },
  {
   "cell_type": "markdown",
   "metadata": {},
   "source": [
    "**¿Existe una correlación entre tener hijos y pagar a tiempo?** <a id='hipotesis_1'></a>"
   ]
  },
  {
   "cell_type": "code",
   "execution_count": null,
   "metadata": {},
   "outputs": [],
   "source": [
    "# Comprueba los datos sobre los hijos y los pagos puntuales\n",
    "\n",
    "df_pivot_children = df.pivot_table(index='children',values='debt',aggfunc=['count','sum','mean'])\n",
    "# Calcular la tasa de incumplimiento en función del número de hijos\n",
    "df_pivot_children\n",
    "\n"
   ]
  },
  {
   "cell_type": "markdown",
   "metadata": {},
   "source": [
    "**Conclusión**\n",
    "\n",
    "La tasa de conversión resultó ser mayor para las personas con 4 hijos, seguido por 2 hijos, 1 hijo, 3 hijos, sin hijos ya la tasa mas bajas fue para los que tienen 5 hijos que solo tiene 9 registros. "
   ]
  },
  {
   "cell_type": "markdown",
   "metadata": {},
   "source": [
    "**¿Existe una correlación entre la situación familiar y el pago a tiempo?** <a id='hipotesis_2'></a>"
   ]
  },
  {
   "cell_type": "code",
   "execution_count": null,
   "metadata": {},
   "outputs": [],
   "source": [
    "# Comprueba los datos del estado familiar y los pagos a tiempo\n",
    "df_pivot_family_status= df.pivot_table(index='family_status',values='debt',aggfunc=['count','sum','mean'])\n",
    "                                       \n",
    "# Calcular la tasa de incumplimiento basada en el estado familiar\n",
    "df_pivot_family_status\n",
    "\n",
    "\n"
   ]
  },
  {
   "cell_type": "markdown",
   "metadata": {},
   "source": [
    "**Conclusión**\n",
    "\n",
    "Según la tasa de conversión las personas unmarried tienen el porcentaje mas alto de incumplimiendo seguida por civil partnership, seguido de las personas married, divorced y por ultimo widow / widower, de igual manera la tasa de impago por categoría es baja.  "
   ]
  },
  {
   "cell_type": "markdown",
   "metadata": {},
   "source": [
    "**¿Existe una correlación entre el nivel de ingresos y el pago a tiempo?** <a id='hipotesis_3'></a>"
   ]
  },
  {
   "cell_type": "code",
   "execution_count": null,
   "metadata": {},
   "outputs": [],
   "source": [
    "# Comprueba los datos del nivel de ingresos y los pagos a tiempo\n",
    "\n",
    "df_pivot_total_income_group= df.pivot_table(index='total_income_group',values='debt',aggfunc=['count','sum','mean'])\n",
    "\n",
    "# Calcular la tasa de incumplimiento \n",
    "df_pivot_total_income_group"
   ]
  },
  {
   "cell_type": "markdown",
   "metadata": {},
   "source": [
    "**Conclusión**\n",
    "\n",
    "Según los datos la tasa de incumplimento es mucho mayor para las personas con ingresos medios, seguido por los que tienen ingresos bajos y por ultimo las personas con ingresos altos, de igual manera se concluye que la tasa de inclumplimiento es baja. "
   ]
  },
  {
   "cell_type": "markdown",
   "metadata": {},
   "source": [
    "**¿Cómo afecta el propósito del crédito a la tasa de incumplimiento?** <a id='hipotesis_4'></a>"
   ]
  },
  {
   "cell_type": "code",
   "execution_count": null,
   "metadata": {},
   "outputs": [],
   "source": [
    "df['purpose'].sort_values().unique()\n",
    "def replace_duplicate_debt(wrong_values,correct_values):\n",
    "        df['purpose']= df['purpose'].replace(wrong_values,correct_values)\n",
    "        \n",
    "#Eliminando duplicados implícitos\n",
    "replace_duplicate_debt(wrong_values= ['getting an education','to become educated','university education','supplementary education','getting higher education','going to university','profile education','to get a supplementary education'], correct_values = 'education')\n",
    "replace_duplicate_debt(wrong_values= ['building a real estate','construction of own property'], correct_values = 'building a property')\n",
    "replace_duplicate_debt(wrong_values= ['buy commercial real estate','buy residential real estate','buying property for renting out','housing','housing transactions','property','purchase of my own house','purchase of the house','purchase of the house for my family','real estate transactions','transactions with commercial real estate','transactions with my real estate'], correct_values = 'buy real estate')\n",
    "replace_duplicate_debt(wrong_values= ['buying a second-hand car','buying my own car','car','car purchase','cars','second-hand car purchase','to buy a car','to own a car'], correct_values = 'purchase of a car')\n",
    "replace_duplicate_debt(wrong_values= ['having a wedding','to have a wedding','wedding ceremony'], correct_values = 'wedding')\n",
    "\n",
    "\n",
    "# Consulta los porcentajes de tasa de incumplimiento para cada propósito del crédito y analízalos\n",
    "\n",
    "df_pivot_purpose= df.pivot_table(index='purpose',values='debt',aggfunc=['count','sum','mean'])\n",
    "\n",
    "# Calcular la tasa de incumplimiento \n",
    "df_pivot_purpose\n",
    "\n"
   ]
  },
  {
   "cell_type": "markdown",
   "metadata": {},
   "source": [
    "**Conclusión**\n",
    "\n",
    "El riesgo mas elevado de incumplimiento lo tienen las personas que solicitan prestamos para compra de autos, seguido muy de cerca por educación, boda, construir una propiedad, comprar una propiedad y renovación del hogar con un porcentaje bastante mas bajo que los demás."
   ]
  },
  {
   "cell_type": "markdown",
   "metadata": {},
   "source": [
    "# Conclusión general <a id='conclusion_general'></a>\n",
    "\n",
    "En líneas generales el conjunto de datos tenía una gran cantidad de errores que dificultaron el analisis de este estudio, completar los valores ausentes fue complejo ya que las dos columnas que tenian valores ausentes presentaban valores problemáticos tales como valores negativos y cifras muy altas que no corresponden a valores dentro de la realidad. \n",
    "\n",
    "Para completar los valores ausentes en la columna 'total_income' se agruparon los datos por la edad de los solicitantes en Joven, Adulto y Retirado y en vista que las medidas de distribución entre la media y la mediana tenía diferencias grandes se optó por utilizar la mediana que correspondía dependiendo del grupo por edad.\n",
    "\n",
    "Para completar los valores ausentes en la columna 'days_employed' se delimitó el conjunto de datos para los valores < 10000 días que corresponden a unos 27 años de trabajo aproximadamete ya que los valores problemáticos estaban afectando considerablente las medidas de distribución y se agruparon los datos también por la edad, en base a esta distribución se procedió a reemplazar los valores ausentes con la mediana.\n",
    "\n",
    "Segúin los datos esta gran cantidad de valores problemáticos y ausentes es posible que ocurrieron por errores de tipeo y datos con escalas diferentes y es necesario configurar los campos del formulario de ingreso de información para solucionar estos problemas, también es necesario configurar el campo de motivo del prestamo con opciones ya predefinidas y así evitar la gran catidad de duplicados implícitos que dificultan mucho el analisis de estos datos.  \n",
    "\n",
    "**En base al estudio de los datos se puede concluir lo siguiente:**\n",
    "\n",
    "1- Si agrupamos en dos grandes grupos de personas Con hijos y Sin hijos tenemos que la tasa de conversión entre las personas con hijos es del 0.092391 mayor que para las personas sin hijos que es del 0.075334.\n",
    "\n",
    "2- Si hacemos el analisis por cantidad de hijos la tasa de conversión resultó ser mayor para las personas con 4 hijos, seguido por 2 hijos, 1 hijo, 3 hijos, sin hijos en ese orden y la tasa mas bajas fue para los que tienen 5 hijos pero que solo tiene 9 registros. \n",
    "\n",
    "2- Según la tasa de conversión las personas unmarried tienen el porcentaje mas alto de incumplimiendo 0.097509, seguida por civil partnership, seguido de las personas married, divorced y por ultimo widow / widower con 0.065693, de igual manera la tasa de impago por categoría es baja.\n",
    "\n",
    "3- Las personas con ingresos medios tienen un porcentaje de riesgo bastante mayor que los que tienen ingresos bajos y altos, es posible que sea porque las personas con ingresos altos y bajos no solicitan tantos prestamos, estre los datos tenemos que las personas con ingresos altos fueron 5368 y con ingresos bajos tambien fueron 5368, mientras que los que tienen ingresos medios son 10735. \n",
    "\n",
    "4- El riesgo mas elevado de incumplimiento lo tienen las personas que solicitan prestamos para compra de autos con 0.093547, seguido muy de cerca por educación, boda, construir una propiedad, comprar una propiedad y renovación del hogar con un porcentaje bastante mas bajo que los demás 0.05766.\n",
    "\n",
    "5- El porcentaje mas bajo de riesgo lo tiene el grupo que solicitó prestamo para housing renovation mientras que el mas alto es para los que tienen 4 hijos con un 0.097561 seguido muy de cerca por unmarried con 0.097509. \n",
    "\n"
   ]
  },
  {
   "cell_type": "markdown",
   "metadata": {},
   "source": [
    "<div class=\"alert alert-block alert-danger\">\n",
    "    \n",
    "# Comentarios generales\n",
    "    \n",
    "<b>Comentario del revisor</b> <a class=\"tocSkip\"></a>\n",
    "    \n",
    "Muy buen trabajo, Yaminir. Has corregido casi todo lo sugerido. Solo nos quedan tres puntos en los cuales trabajar para poder aprobar el proyecto. No te tomará mucho tiempo:\n",
    "    \n",
    "1. Tabla de contenidos al principio del documento.\n",
    "2. Separación de importaciones.\n",
    "3. Sustituir el valor de 0 por la mediana en `dob_years`.\n",
    "</div>"
   ]
  },
  {
   "cell_type": "markdown",
   "metadata": {},
   "source": [
    "<div class=\"alert alert-block alert-success\">\n",
    "    \n",
    "# Comentarios generales\n",
    "    \n",
    "<b>Comentario del revisor</b> <a class=\"tocSkip\"></a>\n",
    "    \n",
    "Gran trabajo, Yaminir. Has corregido todo lo sugerido y aprobado un nuevo proyecto.\n",
    "    \n",
    "¡Felicitaciones!\n",
    "</div>"
   ]
  }
 ],
 "metadata": {
  "ExecuteTimeLog": [
   {
    "duration": 2741,
    "start_time": "2021-10-21T01:08:49.480Z"
   },
   {
    "duration": 52,
    "start_time": "2021-10-21T01:08:53.315Z"
   },
   {
    "duration": 49,
    "start_time": "2021-10-21T01:08:57.432Z"
   },
   {
    "duration": 70,
    "start_time": "2021-10-21T01:09:07.706Z"
   }
  ],
  "kernelspec": {
   "display_name": "Python 3 (ipykernel)",
   "language": "python",
   "name": "python3"
  },
  "language_info": {
   "codemirror_mode": {
    "name": "ipython",
    "version": 3
   },
   "file_extension": ".py",
   "mimetype": "text/x-python",
   "name": "python",
   "nbconvert_exporter": "python",
   "pygments_lexer": "ipython3",
   "version": "3.9.13"
  },
  "toc": {
   "base_numbering": 1,
   "nav_menu": {},
   "number_sections": true,
   "sideBar": true,
   "skip_h1_title": true,
   "title_cell": "Table of Contents",
   "title_sidebar": "Contents",
   "toc_cell": false,
   "toc_position": {
    "height": "calc(100% - 180px)",
    "left": "10px",
    "top": "150px",
    "width": "165px"
   },
   "toc_section_display": true,
   "toc_window_display": false
  }
 },
 "nbformat": 4,
 "nbformat_minor": 2
}
